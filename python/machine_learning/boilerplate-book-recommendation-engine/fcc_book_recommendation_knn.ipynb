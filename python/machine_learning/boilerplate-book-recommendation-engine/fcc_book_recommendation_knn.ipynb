{
  "nbformat": 4,
  "nbformat_minor": 0,
  "metadata": {
    "colab": {
      "name": "fcc_book_recommendation_knn.ipynb",
      "provenance": [],
      "collapsed_sections": []
    },
    "kernelspec": {
      "display_name": "Python 3",
      "language": "python",
      "name": "python3"
    },
    "language_info": {
      "codemirror_mode": {
        "name": "ipython",
        "version": 3
      },
      "file_extension": ".py",
      "mimetype": "text/x-python",
      "name": "python",
      "nbconvert_exporter": "python",
      "pygments_lexer": "ipython3",
      "version": "3.6.5"
    }
  },
  "cells": [
    {
      "cell_type": "markdown",
      "metadata": {
        "id": "uGd4NYQX1Rf_"
      },
      "source": [
        "*Note: You are currently reading this using Google Colaboratory which is a cloud-hosted version of Jupyter Notebook. This is a document containing both text cells for documentation and runnable code cells. If you are unfamiliar with Jupyter Notebook, watch this 3-minute introduction before starting this challenge: https://www.youtube.com/watch?v=inN8seMm7UI*\n",
        "\n",
        "---\n",
        "\n",
        "In this challenge, you will create a book recommendation algorithm using **K-Nearest Neighbors**.\n",
        "\n",
        "You will use the [Book-Crossings dataset](http://www2.informatik.uni-freiburg.de/~cziegler/BX/). This dataset contains 1.1 million ratings (scale of 1-10) of 270,000 books by 90,000 users. \n",
        "\n",
        "After importing and cleaning the data, use `NearestNeighbors` from `sklearn.neighbors` to develop a model that shows books that are similar to a given book. The Nearest Neighbors algorithm measures distance to determine the “closeness” of instances.\n",
        "\n",
        "Create a function named `get_recommends` that takes a book title (from the dataset) as an argument and returns a list of 5 similar books with their distances from the book argument.\n",
        "\n",
        "This code:\n",
        "\n",
        "`get_recommends(\"The Queen of the Damned (Vampire Chronicles (Paperback))\")`\n",
        "\n",
        "should return:\n",
        "\n",
        "```\n",
        "[\n",
        "  'The Queen of the Damned (Vampire Chronicles (Paperback))',\n",
        "  [\n",
        "    ['Catch 22', 0.793983519077301], \n",
        "    ['The Witching Hour (Lives of the Mayfair Witches)', 0.7448656558990479], \n",
        "    ['Interview with the Vampire', 0.7345068454742432],\n",
        "    ['The Tale of the Body Thief (Vampire Chronicles (Paperback))', 0.5376338362693787],\n",
        "    ['The Vampire Lestat (Vampire Chronicles, Book II)', 0.5178412199020386]\n",
        "  ]\n",
        "]\n",
        "```\n",
        "\n",
        "Notice that the data returned from `get_recommends()` is a list. The first element in the list is the book title passed in to the function. The second element in the list is a list of five more lists. Each of the five lists contains a recommended book and the distance from the recommended book to the book passed in to the function.\n",
        "\n",
        "If you graph the dataset (optional), you will notice that most books are not rated frequently. To ensure statistical significance, remove from the dataset users with less than 200 ratings and books with less than 100 ratings.\n",
        "\n",
        "The first three cells import libraries you may need and the data to use. The final cell is for testing. Write all your code in between those cells."
      ]
    },
    {
      "cell_type": "code",
      "metadata": {
        "id": "Y1onB6kUvo4Z"
      },
      "source": [
        "# import libraries (you may add additional imports but you may not have to)\n",
        "import numpy as np\n",
        "import pandas as pd\n",
        "from scipy.sparse import csr_matrix\n",
        "from sklearn.neighbors import NearestNeighbors\n",
        "import matplotlib.pyplot as plt"
      ],
      "execution_count": 1,
      "outputs": []
    },
    {
      "cell_type": "code",
      "metadata": {
        "colab": {
          "base_uri": "https://localhost:8080/"
        },
        "id": "iAQGqqO_vo4d",
        "outputId": "2586a33c-c7ec-4369-9d7a-e91d5648cce0"
      },
      "source": [
        "# get data files\n",
        "!wget https://cdn.freecodecamp.org/project-data/books/book-crossings.zip\n",
        "\n",
        "!unzip book-crossings.zip\n",
        "\n",
        "books_filename = 'BX-Books.csv'\n",
        "ratings_filename = 'BX-Book-Ratings.csv'"
      ],
      "execution_count": 2,
      "outputs": [
        {
          "output_type": "stream",
          "text": [
            "--2020-12-29 14:13:43--  https://cdn.freecodecamp.org/project-data/books/book-crossings.zip\n",
            "Resolving cdn.freecodecamp.org (cdn.freecodecamp.org)... 172.67.70.149, 104.26.2.33, 104.26.3.33, ...\n",
            "Connecting to cdn.freecodecamp.org (cdn.freecodecamp.org)|172.67.70.149|:443... connected.\n",
            "HTTP request sent, awaiting response... 200 OK\n",
            "Length: unspecified [application/zip]\n",
            "Saving to: ‘book-crossings.zip’\n",
            "\n",
            "book-crossings.zip      [   <=>              ]  24.88M  43.6MB/s    in 0.6s    \n",
            "\n",
            "2020-12-29 14:13:44 (43.6 MB/s) - ‘book-crossings.zip’ saved [26085508]\n",
            "\n",
            "Archive:  book-crossings.zip\n",
            "  inflating: BX-Book-Ratings.csv     \n",
            "  inflating: BX-Books.csv            \n",
            "  inflating: BX-Users.csv            \n"
          ],
          "name": "stdout"
        }
      ]
    },
    {
      "cell_type": "code",
      "metadata": {
        "id": "NClILWOiEd6Q"
      },
      "source": [
        "# import csv data into dataframes\n",
        "df_books = pd.read_csv(\n",
        "    books_filename,\n",
        "    encoding = \"ISO-8859-1\",\n",
        "    sep=\";\",\n",
        "    header=0,\n",
        "    names=['isbn', 'title', 'author'],\n",
        "    usecols=['isbn', 'title', 'author'],\n",
        "    dtype={'isbn': 'str', 'title': 'str', 'author': 'str'})\n",
        "\n",
        "df_ratings = pd.read_csv(\n",
        "    ratings_filename,\n",
        "    encoding = \"ISO-8859-1\",\n",
        "    sep=\";\",\n",
        "    header=0,\n",
        "    names=['user', 'isbn', 'rating'],\n",
        "    usecols=['user', 'isbn', 'rating'],\n",
        "    dtype={'user': 'int32', 'isbn': 'str', 'rating': 'float32'})"
      ],
      "execution_count": 3,
      "outputs": []
    },
    {
      "cell_type": "code",
      "metadata": {
        "colab": {
          "base_uri": "https://localhost:8080/",
          "height": 1000
        },
        "id": "xAcXjkCFCh0A",
        "outputId": "8cfcfefd-4ec4-4b9c-f2b9-2a98d1b030e1"
      },
      "source": [
        "# add your code here - consider creating a new cell for each section of code\n",
        "\n",
        "# print and plot some data for insight\n",
        "print(\"----------------------------------------------------\")\n",
        "print(\"---- df_books head ----\")\n",
        "print(df_books.head())\n",
        "print(\"---- df_books description ----\")\n",
        "print(df_books.describe())\n",
        "print(\"---- df_books example ----\")\n",
        "print(df_books.loc[0])\n",
        "print(\"isbn =\",  df_books.loc[0].get(\"isbn\"))\n",
        "print(\"title =\",  df_books.loc[0].get(\"title\"))\n",
        "print(\"author =\", df_books.loc[0].get(\"author\"))\n",
        "print(\"----------------------------------------------------\")\n",
        "print(\"---- df_ratings head ----\")\n",
        "print(df_ratings.head())\n",
        "print(\"---- df_ratings description ----\")\n",
        "print(df_ratings.describe())\n",
        "print(\"---- df_ratings example ----\")\n",
        "print(df_ratings.loc[1])\n",
        "print(\"user =\", df_ratings.loc[1].get(\"user\"))\n",
        "print(\"isbn =\", df_ratings.loc[1].get(\"isbn\"))\n",
        "print(\"rating =\", df_ratings.loc[1].get(\"rating\"))\n",
        "print(\"---- df_ratings ratings ----\")\n",
        "print(df_ratings.rating.value_counts(sort=False).sort_index())\n",
        "df_ratings.rating.value_counts(sort=False).sort_values().sort_index().plot(kind='bar')\n",
        "plt.xlabel(\"rating\")\n",
        "plt.ylabel(\"# ratings\")\n",
        "plt.show()"
      ],
      "execution_count": 4,
      "outputs": [
        {
          "output_type": "stream",
          "text": [
            "----------------------------------------------------\n",
            "---- df_books head ----\n",
            "         isbn  ...                author\n",
            "0  0195153448  ...    Mark P. O. Morford\n",
            "1  0002005018  ...  Richard Bruce Wright\n",
            "2  0060973129  ...          Carlo D'Este\n",
            "3  0374157065  ...      Gina Bari Kolata\n",
            "4  0393045218  ...       E. J. W. Barber\n",
            "\n",
            "[5 rows x 3 columns]\n",
            "---- df_books description ----\n",
            "              isbn           title           author\n",
            "count       271379          271379           271378\n",
            "unique      271379          242154           102042\n",
            "top     0704340070  Selected Poems  Agatha Christie\n",
            "freq             1              27              632\n",
            "---- df_books example ----\n",
            "isbn               0195153448\n",
            "title     Classical Mythology\n",
            "author     Mark P. O. Morford\n",
            "Name: 0, dtype: object\n",
            "isbn = 0195153448\n",
            "title = Classical Mythology\n",
            "author = Mark P. O. Morford\n",
            "----------------------------------------------------\n",
            "---- df_ratings head ----\n",
            "     user        isbn  rating\n",
            "0  276725  034545104X     0.0\n",
            "1  276726  0155061224     5.0\n",
            "2  276727  0446520802     0.0\n",
            "3  276729  052165615X     3.0\n",
            "4  276729  0521795028     6.0\n",
            "---- df_ratings description ----\n",
            "               user        rating\n",
            "count  1.149780e+06  1.149780e+06\n",
            "mean   1.403864e+05  2.866950e+00\n",
            "std    8.056228e+04  3.842474e+00\n",
            "min    2.000000e+00  0.000000e+00\n",
            "25%    7.034500e+04  0.000000e+00\n",
            "50%    1.410100e+05  0.000000e+00\n",
            "75%    2.110280e+05  7.000000e+00\n",
            "max    2.788540e+05  1.000000e+01\n",
            "---- df_ratings example ----\n",
            "user          276726\n",
            "isbn      0155061224\n",
            "rating             5\n",
            "Name: 1, dtype: object\n",
            "user = 276726\n",
            "isbn = 0155061224\n",
            "rating = 5.0\n",
            "---- df_ratings ratings ----\n",
            "0.0     716109\n",
            "1.0       1770\n",
            "2.0       2759\n",
            "3.0       5996\n",
            "4.0       8904\n",
            "5.0      50974\n",
            "6.0      36924\n",
            "7.0      76457\n",
            "8.0     103736\n",
            "9.0      67541\n",
            "10.0     78610\n",
            "Name: rating, dtype: int64\n"
          ],
          "name": "stdout"
        },
        {
          "output_type": "display_data",
          "data": {
            "image/png": "[encoded data removed]",
            "text/plain": [
              "<Figure size 432x288 with 1 Axes>"
            ]
          },
          "metadata": {
            "tags": [],
            "needs_background": "light"
          }
        }
      ]
    },
    {
      "cell_type": "code",
      "metadata": {
        "colab": {
          "base_uri": "https://localhost:8080/",
          "height": 465
        },
        "id": "MzW8OodYIALA",
        "outputId": "8513ab28-f38f-4223-ac28-4138a8eedf9d"
      },
      "source": [
        "# clean data and print statistics\n",
        "\n",
        "# find users with less than 200 ratings\n",
        "user_rating_counts = df_ratings['user'].value_counts()\n",
        "valid_user_ratings = user_rating_counts[user_rating_counts >= 200]\n",
        "\n",
        "# find books with less than 100 ratings\n",
        "book_rating_counts = df_ratings['isbn'].value_counts()\n",
        "valid_book_ratings = book_rating_counts[book_rating_counts >= 100]\n",
        "\n",
        "# exclude found entries from df_ratings...\n",
        "df_ratings = df_ratings[df_ratings['user'].isin(valid_user_ratings.index)]\n",
        "df_ratings = df_ratings[df_ratings['isbn'].isin(valid_book_ratings.index)]\n",
        "\n",
        "# ...and print plot \n",
        "df_ratings.rating.value_counts(sort=False).sort_values().sort_index().plot(kind='bar')\n",
        "plt.xlabel(\"rating\")\n",
        "plt.ylabel(\"# ratings\")\n",
        "plt.show()\n",
        "\n",
        "print(\"---- df_ratings description ----\")\n",
        "print(df_ratings.describe())"
      ],
      "execution_count": 5,
      "outputs": [
        {
          "output_type": "display_data",
          "data": {
            "image/png": "[encoded data removed]",
            "text/plain": [
              "<Figure size 432x288 with 1 Axes>"
            ]
          },
          "metadata": {
            "tags": [],
            "needs_background": "light"
          }
        },
        {
          "output_type": "stream",
          "text": [
            "---- df_ratings description ----\n",
            "                user        rating\n",
            "count   49781.000000  49781.000000\n",
            "mean   140993.388562      2.024086\n",
            "std     80901.415891      3.576862\n",
            "min       254.000000      0.000000\n",
            "25%     70415.000000      0.000000\n",
            "50%    140358.000000      0.000000\n",
            "75%    213350.000000      3.000000\n",
            "max    278418.000000     10.000000\n"
          ],
          "name": "stdout"
        }
      ]
    },
    {
      "cell_type": "code",
      "metadata": {
        "id": "3Xz42wq9ICEY",
        "colab": {
          "base_uri": "https://localhost:8080/"
        },
        "outputId": "330ac7ae-e28c-4a3b-e8ca-399e0c3e2c09"
      },
      "source": [
        "# merge/combine the data sets\n",
        "pd.set_option(\"display.max_columns\", 10)\n",
        "pd.set_option(\"display.width\", 200)\n",
        "\n",
        "combined_ratings = pd.merge(df_ratings, df_books, on=\"isbn\")\n",
        "combined_ratings = combined_ratings.drop([\"author\"], axis=1)\n",
        "print(combined_ratings)"
      ],
      "execution_count": 6,
      "outputs": [
        {
          "output_type": "stream",
          "text": [
            "         user        isbn  rating                                              title\n",
            "0      277427  002542730X    10.0  Politically Correct Bedtime Stories: Modern Ta...\n",
            "1        3363  002542730X     0.0  Politically Correct Bedtime Stories: Modern Ta...\n",
            "2       11676  002542730X     6.0  Politically Correct Bedtime Stories: Modern Ta...\n",
            "3       12538  002542730X    10.0  Politically Correct Bedtime Stories: Modern Ta...\n",
            "4       13552  002542730X     0.0  Politically Correct Bedtime Stories: Modern Ta...\n",
            "...       ...         ...     ...                                                ...\n",
            "49512  238864  0399149325     0.0  Portrait of a Killer: Jack the Ripper -- Case ...\n",
            "49513  251843  0399149325     1.0  Portrait of a Killer: Jack the Ripper -- Case ...\n",
            "49514  253821  0399149325     0.0  Portrait of a Killer: Jack the Ripper -- Case ...\n",
            "49515  265115  0399149325     0.0  Portrait of a Killer: Jack the Ripper -- Case ...\n",
            "49516  266226  0399149325     0.0  Portrait of a Killer: Jack the Ripper -- Case ...\n",
            "\n",
            "[49517 rows x 4 columns]\n"
          ],
          "name": "stdout"
        }
      ]
    },
    {
      "cell_type": "code",
      "metadata": {
        "colab": {
          "base_uri": "https://localhost:8080/"
        },
        "id": "T5aCBIBvyO5x",
        "outputId": "25e21fa4-dcd1-4b62-b276-66f68e17a0ad"
      },
      "source": [
        "# clean data and pivot to get 'rating per book title per user'...\n",
        "user_ratings_singled = combined_ratings.drop_duplicates([\"user\", \"title\"])\n",
        "user_ratings_pivot = user_ratings_singled.pivot(index=\"title\", columns=\"user\", values=\"rating\").fillna(0)\n",
        "print(user_ratings_pivot)\n",
        "\n",
        "print(\"---------------------------\")\n",
        "# ...and save in a csr matrix\n",
        "user_ratings_matrix = csr_matrix(user_ratings_pivot.values)\n",
        "print(user_ratings_matrix)\n",
        "print(user_ratings_matrix.shape)"
      ],
      "execution_count": 7,
      "outputs": [
        {
          "output_type": "stream",
          "text": [
            "user                                                254     2276    2766    2977    3363    ...  275970  277427  277478  277639  278418\n",
            "title                                                                                       ...                                        \n",
            "1984                                                   9.0     0.0     0.0     0.0     0.0  ...     0.0     0.0     0.0     0.0     0.0\n",
            "1st to Die: A Novel                                    0.0     0.0     0.0     0.0     0.0  ...     0.0     0.0     0.0     0.0     0.0\n",
            "2nd Chance                                             0.0    10.0     0.0     0.0     0.0  ...     0.0     0.0     0.0     0.0     0.0\n",
            "4 Blondes                                              0.0     0.0     0.0     0.0     0.0  ...     0.0     0.0     0.0     0.0     0.0\n",
            "A Beautiful Mind: The Life of Mathematical Geni...     0.0     0.0     0.0     0.0     0.0  ...     0.0     0.0     0.0     0.0     0.0\n",
            "...                                                    ...     ...     ...     ...     ...  ...     ...     ...     ...     ...     ...\n",
            "Without Remorse                                        0.0     0.0     0.0     0.0     0.0  ...     0.0     0.0     0.0     0.0     0.0\n",
            "Year of Wonders                                        0.0     0.0     0.0     7.0     0.0  ...     0.0     0.0     0.0     0.0     0.0\n",
            "You Belong To Me                                       0.0     0.0     0.0     0.0     0.0  ...     0.0     0.0     0.0     0.0     0.0\n",
            "Zen and the Art of Motorcycle Maintenance: An I...     0.0     0.0     0.0     0.0     0.0  ...     0.0     0.0     0.0     0.0     0.0\n",
            "\\O\\\" Is for Outlaw\"                                    0.0     0.0     0.0     0.0     0.0  ...     0.0     0.0     0.0     0.0     0.0\n",
            "\n",
            "[673 rows x 888 columns]\n",
            "---------------------------\n",
            "  (0, 0)\t9.0\n",
            "  (0, 36)\t9.0\n",
            "  (0, 41)\t8.0\n",
            "  (0, 58)\t7.0\n",
            "  (0, 136)\t9.0\n",
            "  (0, 157)\t10.0\n",
            "  (0, 171)\t9.0\n",
            "  (0, 188)\t8.0\n",
            "  (0, 220)\t10.0\n",
            "  (0, 221)\t10.0\n",
            "  (0, 246)\t10.0\n",
            "  (0, 278)\t10.0\n",
            "  (0, 391)\t10.0\n",
            "  (0, 477)\t9.0\n",
            "  (0, 507)\t9.0\n",
            "  (0, 554)\t10.0\n",
            "  (0, 602)\t9.0\n",
            "  (0, 693)\t9.0\n",
            "  (0, 761)\t8.0\n",
            "  (0, 768)\t7.0\n",
            "  (0, 827)\t10.0\n",
            "  (0, 876)\t10.0\n",
            "  (1, 10)\t9.0\n",
            "  (1, 25)\t10.0\n",
            "  (1, 41)\t9.0\n",
            "  :\t:\n",
            "  (671, 232)\t8.0\n",
            "  (671, 271)\t6.0\n",
            "  (671, 330)\t9.0\n",
            "  (671, 437)\t9.0\n",
            "  (671, 475)\t10.0\n",
            "  (671, 647)\t8.0\n",
            "  (671, 660)\t7.0\n",
            "  (671, 746)\t7.0\n",
            "  (671, 759)\t9.0\n",
            "  (672, 15)\t8.0\n",
            "  (672, 25)\t7.0\n",
            "  (672, 112)\t5.0\n",
            "  (672, 151)\t6.0\n",
            "  (672, 234)\t7.0\n",
            "  (672, 292)\t8.0\n",
            "  (672, 305)\t9.0\n",
            "  (672, 324)\t10.0\n",
            "  (672, 369)\t10.0\n",
            "  (672, 386)\t9.0\n",
            "  (672, 498)\t10.0\n",
            "  (672, 505)\t8.0\n",
            "  (672, 591)\t8.0\n",
            "  (672, 712)\t8.0\n",
            "  (672, 830)\t9.0\n",
            "  (672, 880)\t8.0\n",
            "(673, 888)\n"
          ],
          "name": "stdout"
        }
      ]
    },
    {
      "cell_type": "code",
      "metadata": {
        "colab": {
          "base_uri": "https://localhost:8080/"
        },
        "id": "WaYDeghs04xA",
        "outputId": "2dea62c7-6d04-4139-fe69-817cd3382966"
      },
      "source": [
        "# check which metrics can be used for brute algorithm\n",
        "from sklearn.neighbors import VALID_METRICS_SPARSE\n",
        "print(VALID_METRICS_SPARSE['brute'])\n",
        "\n",
        "# define and fit the knn model\n",
        "model = NearestNeighbors(metric=\"cosine\", algorithm=\"brute\", n_neighbors=5)\n",
        "model.fit(user_ratings_matrix)"
      ],
      "execution_count": 8,
      "outputs": [
        {
          "output_type": "stream",
          "text": [
            "{'euclidean', 'manhattan', 'cosine', 'cityblock', 'l2', 'l1', 'precomputed'}\n"
          ],
          "name": "stdout"
        },
        {
          "output_type": "execute_result",
          "data": {
            "text/plain": [
              "NearestNeighbors(algorithm='brute', leaf_size=30, metric='cosine',\n",
              "                 metric_params=None, n_jobs=None, n_neighbors=5, p=2,\n",
              "                 radius=1.0)"
            ]
          },
          "metadata": {
            "tags": []
          },
          "execution_count": 8
        }
      ]
    },
    {
      "cell_type": "code",
      "metadata": {
        "id": "f5ZUd-L1SQz7"
      },
      "source": [
        "# function to return recommended books - this will be tested\n",
        "def get_recommends(book = \"\"):\n",
        "    query = user_ratings_pivot.loc[book].values.reshape(1,-1)\n",
        "    distances, indices = model.kneighbors(query, n_neighbors=6)\n",
        "    distances, indices = distances.flatten(), indices.flatten()\n",
        "    recommended_books = [book]\n",
        "    neighboring_books = []\n",
        "    for i in range(1, len(indices)):\n",
        "        entry = [ user_ratings_pivot.iloc[indices[i],:].name, distances[i] ]\n",
        "        # insert entry at beginning to ensure correct ordering\n",
        "        neighboring_books.insert(0, entry)\n",
        "    recommended_books.append(neighboring_books)\n",
        "\n",
        "    return recommended_books"
      ],
      "execution_count": 9,
      "outputs": []
    },
    {
      "cell_type": "code",
      "metadata": {
        "colab": {
          "base_uri": "https://localhost:8080/"
        },
        "id": "a2l6ZP7F_tax",
        "outputId": "73640bb7-9237-43dd-d5c1-410809ff8cd1"
      },
      "source": [
        "get_recommends(\"The Queen of the Damned (Vampire Chronicles (Paperback))\")"
      ],
      "execution_count": 10,
      "outputs": [
        {
          "output_type": "execute_result",
          "data": {
            "text/plain": [
              "['The Queen of the Damned (Vampire Chronicles (Paperback))',\n",
              " [['Catch 22', 0.7939835],\n",
              "  ['The Witching Hour (Lives of the Mayfair Witches)', 0.74486566],\n",
              "  ['Interview with the Vampire', 0.73450685],\n",
              "  ['The Tale of the Body Thief (Vampire Chronicles (Paperback))', 0.53763384],\n",
              "  ['The Vampire Lestat (Vampire Chronicles, Book II)', 0.51784116]]]"
            ]
          },
          "metadata": {
            "tags": []
          },
          "execution_count": 10
        }
      ]
    },
    {
      "cell_type": "markdown",
      "metadata": {
        "id": "eat9A2TKawHU"
      },
      "source": [
        "Use the cell below to test your function. The `test_book_recommendation()` function will inform you if you passed the challenge or need to keep trying."
      ]
    },
    {
      "cell_type": "code",
      "metadata": {
        "id": "jd2SLCh8oxMh",
        "colab": {
          "base_uri": "https://localhost:8080/"
        },
        "outputId": "3e685661-9d91-44a6-994d-14b79ac93e27"
      },
      "source": [
        "books = get_recommends(\"Where the Heart Is (Oprah's Book Club (Paperback))\")\n",
        "print(books)\n",
        "\n",
        "def test_book_recommendation():\n",
        "  test_pass = True\n",
        "  recommends = get_recommends(\"Where the Heart Is (Oprah's Book Club (Paperback))\")\n",
        "  if recommends[0] != \"Where the Heart Is (Oprah's Book Club (Paperback))\":\n",
        "    test_pass = False\n",
        "  recommended_books = [\"I'll Be Seeing You\", 'The Weight of Water', 'The Surgeon', 'I Know This Much Is True']\n",
        "  recommended_books_dist = [0.8, 0.77, 0.77, 0.77]\n",
        "  for i in range(2): \n",
        "    if recommends[1][i][0] not in recommended_books:\n",
        "      test_pass = False\n",
        "    if abs(recommends[1][i][1] - recommended_books_dist[i]) >= 0.05:\n",
        "      test_pass = False\n",
        "  if test_pass:\n",
        "    print(\"You passed the challenge! 🎉🎉🎉🎉🎉\")\n",
        "  else:\n",
        "    print(\"You havn't passed yet. Keep trying!\")\n",
        "\n",
        "test_book_recommendation()"
      ],
      "execution_count": 11,
      "outputs": [
        {
          "output_type": "stream",
          "text": [
            "[\"Where the Heart Is (Oprah's Book Club (Paperback))\", [[\"I'll Be Seeing You\", 0.8016211], ['The Weight of Water', 0.77085835], ['The Surgeon', 0.7699411], ['I Know This Much Is True', 0.7677075], ['The Lovely Bones: A Novel', 0.7234864]]]\n",
            "You passed the challenge! 🎉🎉🎉🎉🎉\n"
          ],
          "name": "stdout"
        }
      ]
    }
  ]
}